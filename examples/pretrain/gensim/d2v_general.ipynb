{
 "cells": [
  {
   "cell_type": "markdown",
   "metadata": {},
   "source": [
    "# 1. Get token example from item\r\n",
    "> Notes: use geneal('linear') tokenizition method, which means do not parse formulas"
   ]
  },
  {
   "cell_type": "code",
   "execution_count": 1,
   "metadata": {},
   "outputs": [
    {
     "name": "stderr",
     "output_type": "stream",
     "text": [
      "sifing: 2it [00:00,  3.89it/s]\n"
     ]
    },
    {
     "data": {
      "text/plain": [
       "['如图',\n",
       " '[FIGURE]',\n",
       " 'x',\n",
       " ',',\n",
       " 'y',\n",
       " '约束条件',\n",
       " '[SEP]',\n",
       " 'z',\n",
       " '=',\n",
       " 'x',\n",
       " '+',\n",
       " '7',\n",
       " 'y',\n",
       " '最大值',\n",
       " '[MARK]']"
      ]
     },
     "execution_count": 1,
     "metadata": {},
     "output_type": "execute_result"
    }
   ],
   "source": [
    "# coding: utf-8\r\n",
    "import json\r\n",
    "from tqdm import tqdm\r\n",
    "from EduNLP.SIF.segment import seg\r\n",
    "from EduNLP.SIF.tokenization import tokenize\r\n",
    "\r\n",
    "\r\n",
    "def load_items():\r\n",
    "    test_items = [\r\n",
    "        {'ques_content':'如图$\\\\FigureID{088f15ea-8b7c-11eb-897e-b46bfc50aa29}$,若$x,y$满足约束条件$\\\\SIFSep$，则$z=x+7 y$的最大值为$\\\\SIFBlank$'},\r\n",
    "        {'ques_content':'<div>Below is a discussion on a website.<br><table border=\\1'},\r\n",
    "    ]\r\n",
    "    for line in test_items:\r\n",
    "        yield line\r\n",
    "    # \"\"\"or use your jsonfile like this\"\"\"\r\n",
    "    # work_file_path = \"../../../data/OpenLUNA.json\"\r\n",
    "    # with open(work_file_path, 'r', encoding=\"utf-8\") as f:\r\n",
    "    #     for line in f:\r\n",
    "    #         yield json.loads(line)\r\n",
    "\r\n",
    "\r\n",
    "token_items = []\r\n",
    "for item in tqdm(load_items(), \"sifing\"):\r\n",
    "    # use seg to transform content into special marks('g','m','a','s'), except text('t') and formula('f').\r\n",
    "    seg_ret = seg(item[\"ques_content\"], symbol=\"gmas\")\r\n",
    "\r\n",
    "    # get tokens by 'linear' method instead of 'ast'\r\n",
    "    tokenization_params = {\r\n",
    "        \"formula_params\": {\r\n",
    "            \"method\": \"linear\",\r\n",
    "        }\r\n",
    "    }\r\n",
    "    token_item = tokenize(seg_ret, **tokenization_params)\r\n",
    "\r\n",
    "    if token_item:\r\n",
    "        token_items.append(token_item.tokens)\r\n",
    "\r\n",
    "token_items[0]"
   ]
  },
  {
   "cell_type": "code",
   "execution_count": 2,
   "metadata": {},
   "outputs": [
    {
     "data": {
      "text/plain": [
       "2"
      ]
     },
     "execution_count": 2,
     "metadata": {},
     "output_type": "execute_result"
    }
   ],
   "source": [
    "len(token_items)"
   ]
  },
  {
   "cell_type": "markdown",
   "metadata": {},
   "source": [
    "# 2. Load Model and test item"
   ]
  },
  {
   "cell_type": "code",
   "execution_count": 7,
   "metadata": {},
   "outputs": [
    {
     "name": "stdout",
     "output_type": "stream",
     "text": [
      "[down file] file info :  [('Server', 'nginx'), ('Date', 'Thu, 08 Jul 2021 14:05:55 GMT'), ('Content-Type', 'application/zip'), ('Content-Length', '2035517115'), ('Connection', 'close'), ('Last-Modified', 'Thu, 08 Jul 2021 13:24:26 GMT'), ('ETag', '\"60e6fc8a-795386bb\"'), ('Accept-Ranges', 'bytes')]\n",
      "[down file] finish !\n",
      "[unzip file] start ...\n",
      "save ======>  ../../../data/d2v/models/general_science_256/general_science_256.bin\n",
      "save ======>  ../../../data/d2v/models/general_science_256/general_science_256.bin.dv.vectors.npy\n",
      "save ======>  ../../../data/d2v/models/general_science_256/general_science_256.bin.syn1neg.npy\n",
      "save ======>  ../../../data/d2v/models/general_science_256/general_science_256.bin.wv.vectors.npy\n",
      "[unzip file] finish !\n"
     ]
    }
   ],
   "source": [
    "\n",
    "from urllib.request import urlopen\n",
    "import os,os.path\n",
    "import zipfile\n",
    "\n",
    "\n",
    "def down_file(subject):\n",
    "  url = \"http://base.ustc.edu.cn/data/model_zoo/EduNLP/d2v/general_\" + subject + \"_256.zip\"\n",
    "  file_name = \"../../../data/d2v/zip/\" + url.split('/')[-1]\n",
    "  u = urlopen(url)\n",
    "\n",
    "  f = open(file_name, 'wb')  \n",
    "  file_info = u.getheaders()\n",
    "  print(\"[down file] file info : \", file_info)\n",
    "  file_size_dl = 0\n",
    "  block_sz = 8192\n",
    "  while True: \n",
    "    buffer = u.read(block_sz) \n",
    "    if not buffer: \n",
    "      break\n",
    "    file_size_dl += len(buffer) \n",
    "    f.write(buffer) \n",
    "  f.close()\n",
    "  print(\"[down file] finish !\")\n",
    "\n",
    "\n",
    "def unzip_file(subject):\n",
    "  zipfilename = \"../../../data/d2v/zip/general_\" + subject + \"_256.zip\"\n",
    "  unziptodir = \"../../../data/d2v/models/\"\n",
    "  print(\"[unzip file] start ...\")\n",
    "  if not os.path.exists(unziptodir):\n",
    "      os.mkdir(unziptodir)\n",
    "  zfobj = zipfile.ZipFile(zipfilename)\n",
    "  for name in zfobj.namelist():\n",
    "    name = name.replace('\\\\','/')\n",
    "    if name.endswith('/'):\n",
    "      continue\n",
    "    ext_filename = os.path.join(unziptodir, name)\n",
    "    ext_filename = ext_filename.replace('\\\\','/')\n",
    "    print(\"save ======> \",ext_filename)\n",
    "    ext_path= os.path.dirname(ext_filename)\n",
    "    if not os.path.exists(ext_path) :\n",
    "        os.mkdir(ext_path)\n",
    "    outfile = open(ext_filename, 'wb')\n",
    "    outfile.write(zfobj.read(name))\n",
    "    outfile.close()\n",
    "  print(\"[unzip file] finish !\")\n",
    "\n",
    "def getData(subject = \"english\"):\n",
    "  \"\"\" subject = english | liberal | science |all \"\"\"\n",
    "  down_file(subject)\n",
    "  unzip_file(subject)\n",
    "\n",
    "\n",
    "work_subject = \"science\"\n",
    "getData(work_subject)"
   ]
  },
  {
   "cell_type": "code",
   "execution_count": 4,
   "metadata": {},
   "outputs": [
    {
     "name": "stdout",
     "output_type": "stream",
     "text": [
      "['如图', '[FIGURE]', 'x', ',', 'y', '约束条件', '[SEP]', 'z', '=', 'x', '+', '7', 'y', '最大值', '[MARK]']\n"
     ]
    }
   ],
   "source": [
    "print(token_items[0])"
   ]
  },
  {
   "cell_type": "code",
   "execution_count": 8,
   "metadata": {},
   "outputs": [
    {
     "data": {
      "text/plain": [
       "array([ 1.12057403e-01,  2.52121985e-02, -1.84135586e-02, -1.93015739e-01,\n",
       "        7.21611977e-02, -2.33779430e-01, -1.64141074e-01, -6.87493235e-02,\n",
       "       -1.90396085e-01,  8.75402018e-02,  2.38416390e-03,  6.11983947e-02,\n",
       "       -6.36335239e-02,  1.64499998e-01,  1.03401735e-01, -1.27245992e-01,\n",
       "        4.49625924e-02, -1.13446854e-01, -2.65566111e-02,  7.19655454e-02,\n",
       "        2.18087152e-01, -5.27603514e-02, -6.00272790e-02, -3.24151537e-04,\n",
       "        4.26347973e-03,  6.99777529e-02,  7.29825273e-02,  4.88277040e-02,\n",
       "        9.19435546e-02,  8.59248787e-02, -6.78287968e-02,  9.07242820e-02,\n",
       "        3.56323123e-02, -8.70092660e-02, -1.92239523e-01, -8.89661834e-02,\n",
       "       -1.03428471e-03,  1.70044407e-01, -4.78864461e-02,  3.79877910e-02,\n",
       "        1.59824491e-02, -5.50671928e-02, -2.07250416e-01, -3.63758020e-02,\n",
       "       -3.72698829e-02,  1.72938913e-01,  1.26007214e-01,  1.48316160e-01,\n",
       "       -1.35055989e-01, -1.00548312e-01, -6.66367710e-02,  4.60145958e-02,\n",
       "       -1.65324789e-02, -6.10759445e-02,  1.43649831e-01, -4.45599556e-02,\n",
       "        1.91585626e-02,  7.01724738e-02, -6.36314899e-02, -7.30614364e-02,\n",
       "       -3.90945971e-02,  1.50229763e-02, -1.08955778e-01, -1.46718234e-01,\n",
       "        5.71336187e-02,  7.33490288e-03, -7.12362975e-02, -1.35968909e-01,\n",
       "       -1.41846493e-01, -1.21724242e-02,  2.11782344e-02,  3.59564684e-02,\n",
       "        2.91599780e-02,  8.70114565e-02, -5.34778945e-02, -6.13208264e-02,\n",
       "       -4.45011444e-02, -1.19502477e-01, -5.72208948e-02, -1.26057547e-02,\n",
       "        7.31390417e-02,  1.13170287e-02, -6.41289726e-02,  3.84915061e-02,\n",
       "       -3.32060866e-02,  1.07155748e-01, -1.18313972e-02, -4.80111204e-02,\n",
       "       -2.21731327e-02, -5.07009067e-02, -5.95692918e-02,  6.96992055e-02,\n",
       "        1.26064345e-01,  3.96699235e-02, -1.30595982e-01,  9.06803533e-02,\n",
       "        5.47501743e-02,  7.47466311e-02,  5.00363000e-02, -2.80629518e-03,\n",
       "        1.44644782e-01, -3.23163122e-02,  1.59618676e-01, -1.09245963e-01,\n",
       "        6.71024248e-02, -3.39584425e-02, -2.75553393e-05,  8.78454968e-02,\n",
       "       -6.07118346e-02,  1.19753659e-01,  2.65988745e-02, -5.10042496e-02,\n",
       "        5.21399081e-02, -2.42521629e-01, -9.89858154e-03, -3.29494663e-02,\n",
       "        1.83798019e-02,  9.23005566e-02,  1.10745616e-01, -1.12465516e-01,\n",
       "       -1.01059945e-02,  6.39770478e-02, -5.30415140e-02,  7.60580599e-02,\n",
       "        1.03514120e-01,  5.35229333e-02,  2.08696742e-02, -1.56086579e-01,\n",
       "       -1.45605907e-01,  1.13736771e-01, -8.64876658e-02, -2.45137922e-02,\n",
       "        3.69705539e-03, -1.06932208e-01,  7.93806985e-02,  3.49154249e-02,\n",
       "        2.03841347e-02,  9.45271924e-02, -3.70137417e-03,  5.91637604e-02,\n",
       "       -1.66821197e-01, -1.25731006e-01,  1.53424209e-02, -2.67103575e-02,\n",
       "        1.10771969e-01, -3.39036994e-02, -1.05315652e-02, -5.44109643e-02,\n",
       "        2.85541750e-02,  6.46369234e-02, -3.49187851e-02,  1.08436078e-01,\n",
       "       -7.73146525e-02,  3.98161411e-02,  4.88098115e-02, -1.10944035e-02,\n",
       "        5.24405669e-03, -2.12129322e-03,  1.67389452e-01,  8.28375444e-02,\n",
       "        4.13173214e-02,  9.47657302e-02, -1.34244353e-01, -9.09424797e-02,\n",
       "       -6.74466835e-04, -6.25869557e-02, -1.13076277e-01,  1.41910642e-01,\n",
       "       -1.18517369e-01,  1.16852656e-01, -2.08438113e-02, -1.22805871e-01,\n",
       "        6.30719662e-02,  1.06972262e-01,  1.14229098e-01,  1.27443403e-01,\n",
       "        6.16616718e-02, -3.43011692e-02, -9.42583457e-02,  6.78091263e-03,\n",
       "       -5.93013428e-02, -5.53200347e-03,  1.60605796e-02,  1.14546202e-01,\n",
       "        1.07856445e-01,  1.33748159e-01, -2.61118216e-03,  2.96827424e-02,\n",
       "        7.05360342e-03, -7.10382611e-02, -6.64980412e-02,  5.89079261e-02,\n",
       "       -3.15800384e-02, -1.36465747e-02,  3.13957967e-02,  2.61322688e-02,\n",
       "       -1.98515039e-02, -5.28205000e-02, -5.27110957e-02, -1.46354243e-01,\n",
       "        3.73097062e-02,  1.31624356e-01,  1.82154234e-02, -6.38729259e-02,\n",
       "        3.36592346e-02,  9.98524874e-02, -2.25096550e-02, -6.31991327e-02,\n",
       "        5.06498627e-02, -1.37556344e-01,  5.81407733e-02,  9.83285159e-02,\n",
       "       -2.91773289e-01, -1.64839812e-02,  4.89003845e-02, -9.94849429e-02,\n",
       "        4.90915552e-02,  9.13087353e-02,  4.35754992e-02, -8.94757956e-02,\n",
       "       -3.84208448e-02,  2.45039742e-02,  7.20279440e-02,  3.24033014e-02,\n",
       "       -6.09216057e-02,  5.36836274e-02, -6.34744167e-02,  1.31210983e-01,\n",
       "       -1.69292420e-01, -1.27450809e-01,  1.64916217e-01, -3.42375748e-02,\n",
       "        9.91373435e-02, -7.11308569e-02,  6.42187446e-02, -4.51611308e-03,\n",
       "        4.77211066e-02,  1.03905179e-01,  1.56738564e-01, -1.07555166e-01,\n",
       "       -2.86277533e-02,  3.67874429e-02,  1.73198864e-01, -2.63761375e-02,\n",
       "       -4.03127670e-02,  1.35650588e-02, -5.75877093e-02,  1.39007755e-02,\n",
       "       -9.40806512e-03,  2.48132111e-03,  5.00500463e-02, -1.29985213e-01,\n",
       "       -5.11630811e-02, -1.43129349e-01,  7.84386098e-02, -1.09991394e-01],\n",
       "      dtype=float32)"
      ]
     },
     "execution_count": 8,
     "metadata": {},
     "output_type": "execute_result"
    }
   ],
   "source": [
    "from EduNLP.Vector import D2V\n",
    "\n",
    "d2v = D2V(\"../../../data/d2v/models/general_\" + work_subject +\"_256/general_\" + work_subject + \"_256.bin\")\n",
    "d2v(token_items[0])"
   ]
  }
 ],
 "metadata": {
  "interpreter": {
   "hash": "776957673adb719a00031a24ed5efd2fa5ce8a13405e5193f8d278edd3805d55"
  },
  "kernelspec": {
   "display_name": "Python 3.6.13 64-bit ('data': conda)",
   "name": "python3"
  },
  "language_info": {
   "name": "python",
   "version": ""
  }
 },
 "nbformat": 4,
 "nbformat_minor": 2
}
{
 "cells": [
  {
   "cell_type": "markdown",
   "metadata": {},
   "source": [
    "# 1. Get token example from item\n",
    "> Notes: use geneal('linear') tokenizition method, which means do not parse formulas"
   ]
  },
  {
   "cell_type": "code",
   "execution_count": 1,
   "metadata": {},
   "outputs": [
    {
     "name": "stderr",
     "output_type": "stream",
     "text": [
      "D:\\MySoftwares\\Anaconda\\envs\\data\\lib\\site-packages\\gensim\\similarities\\__init__.py:15: UserWarning: The gensim.similarities.levenshtein submodule is disabled, because the optional Levenshtein package <https://pypi.org/project/python-Levenshtein/> is unavailable. Install Levenhstein (e.g. `pip install python-Levenshtein`) to suppress this warning.\n",
      "  warnings.warn(msg)\n",
      "sifing: 3it [00:00,  6.16it/s]\n"
     ]
    },
    {
     "data": {
      "text/plain": [
       "['公式',\n",
       " '[FORMULA]',\n",
       " '公式',\n",
       " '[FORMULA]',\n",
       " '如图',\n",
       " '[FIGURE]',\n",
       " 'x',\n",
       " ',',\n",
       " 'y',\n",
       " '约束条件',\n",
       " '[SEP]',\n",
       " 'z',\n",
       " '=',\n",
       " 'x',\n",
       " '+',\n",
       " '7',\n",
       " 'y',\n",
       " '最大值',\n",
       " '[MARK]']"
      ]
     },
     "execution_count": 1,
     "metadata": {},
     "output_type": "execute_result"
    }
   ],
   "source": [
    "# coding: utf-8\n",
    "import json\n",
    "from tqdm import tqdm\n",
    "from EduNLP.SIF.segment import seg\n",
    "from EduNLP.SIF.tokenization import tokenize\n",
    "from EduNLP.Pretrain import GensimWordTokenizer\n",
    "\n",
    "def load_items():\n",
    "    test_items = [\n",
    "        {'ques_content':'有公式$\\\\FormFigureID{wrong1?}$和公式$\\\\FormFigureBase64{wrong2?}$，如图$\\\\FigureID{088f15ea-8b7c-11eb-897e-b46bfc50aa29}$,若$x,y$满足约束条件$\\\\SIFSep$，则$z=x+7 y$的最大值为$\\\\SIFBlank$'},\n",
    "        {'ques_content':'如图$\\\\FigureID{088f15ea-8b7c-11eb-897e-b46bfc50aa29}$,若$x,y$满足约束条件$\\\\SIFSep$，则$z=x+7 y$的最大值为$\\\\SIFBlank$'},\n",
    "        {'ques_content':'<div>Below is a discussion on a website.<br><table border=\\1'},\n",
    "    ]\n",
    "    for line in test_items:\n",
    "        yield line\n",
    "    # \"\"\"or use your jsonfile like this\"\"\"\n",
    "    # work_file_path = \"../../../data/OpenLUNA.json\"\n",
    "    # with open(work_file_path, 'r', encoding=\"utf-8\") as f:\n",
    "    #     for line in f:\n",
    "    #         yield json.loads(line)\n",
    "\n",
    "\n",
    "token_items = []\n",
    "for item in tqdm(load_items(), \"sifing\"): \n",
    "    # transform content into special marks('g','m','a','s'), except text('t') and formula('f').\n",
    "    # 'general' means symbolize the Formula in figure format and use 'linear' method for formula segmentation \n",
    "    tokenizer = GensimWordTokenizer(symbol=\"gmas\", general=True)\n",
    "    token_item = tokenizer(item[\"ques_content\"])\n",
    "    if token_item:\n",
    "        token_items.append(token_item.tokens)\n",
    "\n",
    "token_items[0]"
   ]
  },
  {
   "cell_type": "code",
   "execution_count": 2,
   "metadata": {},
   "outputs": [
    {
     "data": {
      "text/plain": [
       "3"
      ]
     },
     "execution_count": 2,
     "metadata": {},
     "output_type": "execute_result"
    }
   ],
   "source": [
    "len(token_items)"
   ]
  },
  {
   "cell_type": "markdown",
   "metadata": {},
   "source": [
    "# 2. Load Model and test item"
   ]
  },
  {
   "cell_type": "code",
   "execution_count": 7,
   "metadata": {},
   "outputs": [
    {
     "name": "stdout",
     "output_type": "stream",
     "text": [
      "[down file] file info :  [('Server', 'nginx'), ('Date', 'Thu, 08 Jul 2021 14:05:55 GMT'), ('Content-Type', 'application/zip'), ('Content-Length', '2035517115'), ('Connection', 'close'), ('Last-Modified', 'Thu, 08 Jul 2021 13:24:26 GMT'), ('ETag', '\"60e6fc8a-795386bb\"'), ('Accept-Ranges', 'bytes')]\n",
      "[down file] finish !\n",
      "[unzip file] start ...\n",
      "save ======>  ../../../data/d2v/models/general_science_256/general_science_256.bin\n",
      "save ======>  ../../../data/d2v/models/general_science_256/general_science_256.bin.dv.vectors.npy\n",
      "save ======>  ../../../data/d2v/models/general_science_256/general_science_256.bin.syn1neg.npy\n",
      "save ======>  ../../../data/d2v/models/general_science_256/general_science_256.bin.wv.vectors.npy\n",
      "[unzip file] finish !\n"
     ]
    }
   ],
   "source": [
    "\n",
    "from urllib.request import urlopen\n",
    "import os,os.path\n",
    "import zipfile\n",
    "\n",
    "\n",
    "def down_file(subject):\n",
    "  url = \"http://base.ustc.edu.cn/data/model_zoo/EduNLP/d2v/general_\" + subject + \"_256.zip\"\n",
    "  file_name = \"../../../data/d2v/zip/\" + url.split('/')[-1]\n",
    "  u = urlopen(url)\n",
    "\n",
    "  f = open(file_name, 'wb')  \n",
    "  file_info = u.getheaders()\n",
    "  print(\"[down file] file info : \", file_info)\n",
    "  file_size_dl = 0\n",
    "  block_sz = 8192\n",
    "  while True: \n",
    "    buffer = u.read(block_sz) \n",
    "    if not buffer: \n",
    "      break\n",
    "    file_size_dl += len(buffer) \n",
    "    f.write(buffer) \n",
    "  f.close()\n",
    "  print(\"[down file] finish !\")\n",
    "\n",
    "\n",
    "def unzip_file(subject):\n",
    "  zipfilename = \"../../../data/d2v/zip/general_\" + subject + \"_256.zip\"\n",
    "  unziptodir = \"../../../data/d2v/models/\"\n",
    "  print(\"[unzip file] start ...\")\n",
    "  if not os.path.exists(unziptodir):\n",
    "      os.mkdir(unziptodir)\n",
    "  zfobj = zipfile.ZipFile(zipfilename)\n",
    "  for name in zfobj.namelist():\n",
    "    name = name.replace('\\\\','/')\n",
    "    if name.endswith('/'):\n",
    "      continue\n",
    "    ext_filename = os.path.join(unziptodir, name)\n",
    "    ext_filename = ext_filename.replace('\\\\','/')\n",
    "    print(\"save ======> \",ext_filename)\n",
    "    ext_path= os.path.dirname(ext_filename)\n",
    "    if not os.path.exists(ext_path) :\n",
    "        os.mkdir(ext_path)\n",
    "    outfile = open(ext_filename, 'wb')\n",
    "    outfile.write(zfobj.read(name))\n",
    "    outfile.close()\n",
    "  print(\"[unzip file] finish !\")\n",
    "\n",
    "def getData(subject = \"english\"):\n",
    "  \"\"\" subject = english | liberal | science |all \"\"\"\n",
    "  down_file(subject)\n",
    "  unzip_file(subject)\n",
    "\n",
    "\n",
    "work_subject = \"science\"\n",
    "getData(work_subject)"
   ]
  },
  {
   "cell_type": "code",
   "execution_count": 4,
   "metadata": {},
   "outputs": [
    {
     "name": "stdout",
     "output_type": "stream",
     "text": [
      "['如图', '[FIGURE]', 'x', ',', 'y', '约束条件', '[SEP]', 'z', '=', 'x', '+', '7', 'y', '最大值', '[MARK]']\n"
     ]
    }
   ],
   "source": [
    "print(token_items[0])"
   ]
  },
  {
   "cell_type": "code",
   "execution_count": 4,
   "metadata": {},
   "outputs": [
    {
     "data": {
      "text/plain": [
       "array([ 0.0650754 , -0.00764359,  0.00102682, -0.09162476,  0.05634515,\n",
       "       -0.11749917, -0.1045712 , -0.05478571, -0.10104678,  0.06869555,\n",
       "       -0.0279559 ,  0.01929354, -0.05042625,  0.1995408 ,  0.06944881,\n",
       "       -0.07930482,  0.02208041, -0.09138293,  0.0048805 ,  0.12356721,\n",
       "        0.17302142,  0.06938677, -0.04870617,  0.05332801,  0.04250436,\n",
       "        0.08110414,  0.02373151,  0.03123289,  0.06333841,  0.04644187,\n",
       "       -0.05552559,  0.03619028,  0.04306177, -0.15928595, -0.1739715 ,\n",
       "       -0.09467822, -0.03689221,  0.10378218, -0.03774287,  0.01273248,\n",
       "       -0.03909611,  0.04232696, -0.1317193 , -0.00897106, -0.03322024,\n",
       "        0.10972358,  0.09367326,  0.10724379, -0.08290622, -0.11172097,\n",
       "       -0.07732891,  0.00606115,  0.0490447 , -0.01932557,  0.04300616,\n",
       "       -0.00384228,  0.05668037,  0.08008637, -0.11094984, -0.06255185,\n",
       "        0.02104814, -0.0395325 , -0.06146542, -0.05361609,  0.07272391,\n",
       "       -0.04243532, -0.16048154, -0.06604826, -0.12449021,  0.05526103,\n",
       "        0.00535829,  0.00682611,  0.11820404,  0.06886878, -0.08219258,\n",
       "       -0.04072911, -0.06055639, -0.06709528, -0.08199105,  0.00697656,\n",
       "        0.04210916, -0.0527688 , -0.08802449,  0.0518236 , -0.0159303 ,\n",
       "        0.06658174,  0.01801784, -0.04645965,  0.00267009,  0.02883541,\n",
       "       -0.03518709,  0.06986652,  0.11763185,  0.05142632, -0.07095999,\n",
       "        0.02578685,  0.06015473,  0.09070479,  0.07589707, -0.00331112,\n",
       "        0.00462306,  0.02119286,  0.13542861, -0.08585397,  0.0568563 ,\n",
       "       -0.03743538,  0.07719219,  0.02867992,  0.01174234,  0.09396701,\n",
       "        0.03365394, -0.01323904,  0.06344116, -0.16451596, -0.01085593,\n",
       "       -0.01957083,  0.06945981,  0.07763321,  0.08032763, -0.14572467,\n",
       "       -0.00088539,  0.0189891 , -0.12265497, -0.02967775,  0.06643682,\n",
       "        0.02523317,  0.00253998, -0.09452266, -0.02559369,  0.09935225,\n",
       "       -0.05968979, -0.04466738,  0.00326104, -0.08424541,  0.04259641,\n",
       "        0.03910066,  0.10403082,  0.08137421, -0.0304862 ,  0.02255934,\n",
       "       -0.09646074, -0.07347719, -0.00398388, -0.04424983,  0.06591009,\n",
       "       -0.01463214,  0.03110809, -0.0236681 , -0.00748344,  0.0831438 ,\n",
       "        0.01693628, -0.00032191, -0.04031874,  0.04085941,  0.01082371,\n",
       "       -0.0009272 ,  0.07060828, -0.00880095,  0.08636337,  0.04546674,\n",
       "        0.01567646,  0.06463104, -0.08863039, -0.05421586, -0.00396016,\n",
       "       -0.08134565, -0.02647342,  0.06610781, -0.12848808,  0.05181779,\n",
       "       -0.10336795, -0.09707115,  0.06390534,  0.06418899,  0.02665433,\n",
       "        0.10307933,  0.08329266,  0.0199034 , -0.05324733,  0.00996747,\n",
       "       -0.11325856,  0.04309069,  0.03640226,  0.07352666,  0.10007787,\n",
       "        0.07372553,  0.02683124,  0.04666227,  0.02644733, -0.06802411,\n",
       "       -0.06877477,  0.05410304,  0.01476123,  0.00816095,  0.04900891,\n",
       "       -0.04161988, -0.01532831, -0.03426032, -0.04761058, -0.10199917,\n",
       "        0.05007187,  0.10701948,  0.00617883, -0.06471778,  0.02693277,\n",
       "        0.10594083, -0.05154434, -0.08649093, -0.0005453 , -0.07080925,\n",
       "       -0.00957253,  0.0948231 , -0.18614972,  0.01444182,  0.02580206,\n",
       "       -0.05774974,  0.04500251,  0.04657077, -0.03227087, -0.0681317 ,\n",
       "       -0.07922572,  0.03327905,  0.03148448,  0.01185677, -0.06091079,\n",
       "       -0.02097153,  0.03082798,  0.0852247 , -0.18267164, -0.12601589,\n",
       "        0.01447408, -0.11319052,  0.04678445, -0.06397694,  0.02984605,\n",
       "       -0.02476524,  0.04109529,  0.09073433,  0.1165121 , -0.0639295 ,\n",
       "       -0.01038016,  0.05122852,  0.11806421, -0.0198778 , -0.03291941,\n",
       "        0.01523909, -0.03708444,  0.01009008, -0.02595838, -0.0065615 ,\n",
       "       -0.01368494, -0.10906908, -0.03018137, -0.12059648,  0.04321602,\n",
       "       -0.01970162], dtype=float32)"
      ]
     },
     "execution_count": 4,
     "metadata": {},
     "output_type": "execute_result"
    }
   ],
   "source": [
    "from EduNLP.Vector import D2V\n",
    "work_subject = \"science\"\n",
    "d2v = D2V(\"../../../data/d2v/models/general_\" + work_subject +\"_256/general_\" + work_subject + \"_256.bin\")\n",
    "d2v(token_items[0])"
   ]
  }
 ],
 "metadata": {
  "interpreter": {
   "hash": "776957673adb719a00031a24ed5efd2fa5ce8a13405e5193f8d278edd3805d55"
  },
  "kernelspec": {
   "display_name": "Python 3",
   "language": "python",
   "name": "python3"
  },
  "language_info": {
   "codemirror_mode": {
    "name": "ipython",
    "version": 3
   },
   "file_extension": ".py",
   "mimetype": "text/x-python",
   "name": "python",
   "nbconvert_exporter": "python",
   "pygments_lexer": "ipython3",
   "version": "3.6.13"
  }
 },
 "nbformat": 4,
 "nbformat_minor": 2
}

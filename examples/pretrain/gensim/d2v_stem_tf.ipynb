{
 "cells": [
  {
   "cell_type": "code",
   "execution_count": 1,
   "metadata": {
    "collapsed": true
   },
   "outputs": [
    {
     "name": "stderr",
     "output_type": "stream",
     "text": [
      "d:\\env\\python3.8\\lib\\site-packages\\gensim\\similarities\\__init__.py:15: UserWarning: The gensim.similarities.levenshtein submodule is disabled, because the optional Levenshtein package <https://pypi.org/project/python-Levenshtein/> is unavailable. Install Levenhstein (e.g. `pip install python-Levenshtein`) to suppress this warning.\n",
      "  warnings.warn(msg)\n",
      "sifing: 792it [00:39, 19.82it/s]\n"
     ]
    },
    {
     "name": "stdout",
     "output_type": "stream",
     "text": [
      "'LaTeX-incompatible input and strict mode is set to \\'warn\\': Unrecognized Unicode character \"①\" (9312) [unknownSymbol]'\n",
      "'LaTeX-incompatible input and strict mode is set to \\'warn\\': Unrecognized Unicode character \"②\" (9313) [unknownSymbol]'\n",
      "'LaTeX-incompatible input and strict mode is set to \\'warn\\': Unrecognized Unicode character \"③\" (9314) [unknownSymbol]'\n",
      "'LaTeX-incompatible input and strict mode is set to \\'warn\\': Unrecognized Unicode character \"④\" (9315) [unknownSymbol]'\n",
      "'LaTeX-incompatible input and strict mode is set to \\'warn\\': Unicode text character \"，\" used in math mode [unicodeTextInMathMode]'\n",
      "'LaTeX-incompatible input and strict mode is set to \\'warn\\': Unicode text character \"，\" used in math mode [unicodeTextInMathMode]'\n",
      "'LaTeX-incompatible input and strict mode is set to \\'warn\\': Unicode text character \"：\" used in math mode [unicodeTextInMathMode]'\n",
      "'LaTeX-incompatible input and strict mode is set to \\'warn\\': Unicode text character \"二\" used in math mode [unicodeTextInMathMode]'\n",
      "'LaTeX-incompatible input and strict mode is set to \\'warn\\': Unicode text character \"项\" used in math mode [unicodeTextInMathMode]'\n",
      "'LaTeX-incompatible input and strict mode is set to \\'warn\\': Unicode text character \"式\" used in math mode [unicodeTextInMathMode]'\n",
      "\"LaTeX-incompatible input and strict mode is set to 'warn': Too few columns specified in the {array} column argument. [textEnv]\"\n",
      "'LaTeX-incompatible input and strict mode is set to \\'warn\\': Unicode text character \"，\" used in math mode [unicodeTextInMathMode]'\n",
      "'LaTeX-incompatible input and strict mode is set to \\'warn\\': Unicode text character \"，\" used in math mode [unicodeTextInMathMode]'\n",
      "'LaTeX-incompatible input and strict mode is set to \\'warn\\': Unicode text character \"，\" used in math mode [unicodeTextInMathMode]'\n",
      "'LaTeX-incompatible input and strict mode is set to \\'warn\\': Unicode text character \"，\" used in math mode [unicodeTextInMathMode]'\n",
      "'LaTeX-incompatible input and strict mode is set to \\'warn\\': Unicode text character \"，\" used in math mode [unicodeTextInMathMode]'\n",
      "'LaTeX-incompatible input and strict mode is set to \\'warn\\': Unicode text character \"＞\" used in math mode [unicodeTextInMathMode]'\n",
      "'LaTeX-incompatible input and strict mode is set to \\'warn\\': Unicode text character \"（\" used in math mode [unicodeTextInMathMode]'\n",
      "'LaTeX-incompatible input and strict mode is set to \\'warn\\': Unicode text character \"，\" used in math mode [unicodeTextInMathMode]'\n",
      "'LaTeX-incompatible input and strict mode is set to \\'warn\\': Unicode text character \"）\" used in math mode [unicodeTextInMathMode]'\n",
      "'LaTeX-incompatible input and strict mode is set to \\'warn\\': Unicode text character \"，\" used in math mode [unicodeTextInMathMode]'\n",
      "'LaTeX-incompatible input and strict mode is set to \\'warn\\': Unicode text character \"，\" used in math mode [unicodeTextInMathMode]'\n",
      "'LaTeX-incompatible input and strict mode is set to \\'warn\\': Unicode text character \"，\" used in math mode [unicodeTextInMathMode]'\n",
      "'LaTeX-incompatible input and strict mode is set to \\'warn\\': Unicode text character \"，\" used in math mode [unicodeTextInMathMode]'\n",
      "'LaTeX-incompatible input and strict mode is set to \\'warn\\': Unicode text character \"，\" used in math mode [unicodeTextInMathMode]'\n",
      "'LaTeX-incompatible input and strict mode is set to \\'warn\\': Unicode text character \"，\" used in math mode [unicodeTextInMathMode]'\n",
      "'LaTeX-incompatible input and strict mode is set to \\'warn\\': Unicode text character \"，\" used in math mode [unicodeTextInMathMode]'\n",
      "'LaTeX-incompatible input and strict mode is set to \\'warn\\': Unicode text character \"，\" used in math mode [unicodeTextInMathMode]'\n",
      "'LaTeX-incompatible input and strict mode is set to \\'warn\\': Unicode text character \"，\" used in math mode [unicodeTextInMathMode]'\n",
      "'LaTeX-incompatible input and strict mode is set to \\'warn\\': Unicode text character \"，\" used in math mode [unicodeTextInMathMode]'\n",
      "'LaTeX-incompatible input and strict mode is set to \\'warn\\': Unicode text character \"（\" used in math mode [unicodeTextInMathMode]'\n",
      "'LaTeX-incompatible input and strict mode is set to \\'warn\\': Unicode text character \"，\" used in math mode [unicodeTextInMathMode]'\n",
      "'LaTeX-incompatible input and strict mode is set to \\'warn\\': Unicode text character \"）\" used in math mode [unicodeTextInMathMode]'\n",
      "'LaTeX-incompatible input and strict mode is set to \\'warn\\': Unicode text character \"：\" used in math mode [unicodeTextInMathMode]'\n",
      "'LaTeX-incompatible input and strict mode is set to \\'warn\\': Unicode text character \"，\" used in math mode [unicodeTextInMathMode]'\n",
      "'LaTeX-incompatible input and strict mode is set to \\'warn\\': Unrecognized Unicode character \"﹣\" (65123) [unknownSymbol]'\n",
      "'LaTeX-incompatible input and strict mode is set to \\'warn\\': Unicode text character \"，\" used in math mode [unicodeTextInMathMode]'\n",
      "'LaTeX-incompatible input and strict mode is set to \\'warn\\': Unicode text character \"（\" used in math mode [unicodeTextInMathMode]'\n",
      "'LaTeX-incompatible input and strict mode is set to \\'warn\\': Unicode text character \"，\" used in math mode [unicodeTextInMathMode]'\n",
      "'LaTeX-incompatible input and strict mode is set to \\'warn\\': Unicode text character \"）\" used in math mode [unicodeTextInMathMode]'\n",
      "\"LaTeX-incompatible input and strict mode is set to 'warn': Too few columns specified in the {array} column argument. [textEnv]\"\n",
      "'LaTeX-incompatible input and strict mode is set to \\'warn\\': Unicode text character \"，\" used in math mode [unicodeTextInMathMode]'\n",
      "'LaTeX-incompatible input and strict mode is set to \\'warn\\': Unicode text character \"，\" used in math mode [unicodeTextInMathMode]'\n",
      "'LaTeX-incompatible input and strict mode is set to \\'warn\\': Unicode text character \"，\" used in math mode [unicodeTextInMathMode]'\n",
      "'LaTeX-incompatible input and strict mode is set to \\'warn\\': Unicode text character \"，\" used in math mode [unicodeTextInMathMode]'\n",
      "'LaTeX-incompatible input and strict mode is set to \\'warn\\': Unicode text character \"＞\" used in math mode [unicodeTextInMathMode]'\n",
      "'LaTeX-incompatible input and strict mode is set to \\'warn\\': Unicode text character \"，\" used in math mode [unicodeTextInMathMode]'\n",
      "'LaTeX-incompatible input and strict mode is set to \\'warn\\': Unicode text character \"，\" used in math mode [unicodeTextInMathMode]'\n",
      "'LaTeX-incompatible input and strict mode is set to \\'warn\\': Unicode text character \"，\" used in math mode [unicodeTextInMathMode]'\n",
      "'LaTeX-incompatible input and strict mode is set to \\'warn\\': Unicode text character \"，\" used in math mode [unicodeTextInMathMode]'\n",
      "'LaTeX-incompatible input and strict mode is set to \\'warn\\': Unicode text character \"，\" used in math mode [unicodeTextInMathMode]'\n",
      "'LaTeX-incompatible input and strict mode is set to \\'warn\\': Unicode text character \"，\" used in math mode [unicodeTextInMathMode]'\n",
      "'LaTeX-incompatible input and strict mode is set to \\'warn\\': Unicode text character \"，\" used in math mode [unicodeTextInMathMode]'\n",
      "'LaTeX-incompatible input and strict mode is set to \\'warn\\': Unicode text character \"，\" used in math mode [unicodeTextInMathMode]'\n",
      "'LaTeX-incompatible input and strict mode is set to \\'warn\\': Unicode text character \"，\" used in math mode [unicodeTextInMathMode]'\n",
      "'LaTeX-incompatible input and strict mode is set to \\'warn\\': Unicode text character \"，\" used in math mode [unicodeTextInMathMode]'\n",
      "'LaTeX-incompatible input and strict mode is set to \\'warn\\': Unicode text character \"，\" used in math mode [unicodeTextInMathMode]'\n",
      "'LaTeX-incompatible input and strict mode is set to \\'warn\\': Unrecognized Unicode character \"﹣\" (65123) [unknownSymbol]'\n",
      "'LaTeX-incompatible input and strict mode is set to \\'warn\\': Unicode text character \"，\" used in math mode [unicodeTextInMathMode]'\n",
      "'LaTeX-incompatible input and strict mode is set to \\'warn\\': Unicode text character \"，\" used in math mode [unicodeTextInMathMode]'\n",
      "'LaTeX-incompatible input and strict mode is set to \\'warn\\': Unicode text character \"，\" used in math mode [unicodeTextInMathMode]'\n",
      "'LaTeX-incompatible input and strict mode is set to \\'warn\\': Unrecognized Unicode character \"﹣\" (65123) [unknownSymbol]'\n",
      "'LaTeX-incompatible input and strict mode is set to \\'warn\\': Unrecognized Unicode character \"﹣\" (65123) [unknownSymbol]'\n",
      "'LaTeX-incompatible input and strict mode is set to \\'warn\\': Unicode text character \"，\" used in math mode [unicodeTextInMathMode]'\n",
      "'LaTeX-incompatible input and strict mode is set to \\'warn\\': Unicode text character \"，\" used in math mode [unicodeTextInMathMode]'\n",
      "'LaTeX-incompatible input and strict mode is set to \\'warn\\': Unicode text character \"，\" used in math mode [unicodeTextInMathMode]'\n",
      "'LaTeX-incompatible input and strict mode is set to \\'warn\\': Unicode text character \"，\" used in math mode [unicodeTextInMathMode]'\n",
      "'LaTeX-incompatible input and strict mode is set to \\'warn\\': Unicode text character \"，\" used in math mode [unicodeTextInMathMode]'\n",
      "'LaTeX-incompatible input and strict mode is set to \\'warn\\': Unicode text character \"，\" used in math mode [unicodeTextInMathMode]'\n",
      "'LaTeX-incompatible input and strict mode is set to \\'warn\\': Unicode text character \"，\" used in math mode [unicodeTextInMathMode]'\n",
      "\"LaTeX-incompatible input and strict mode is set to 'warn': Too few columns specified in the {array} column argument. [textEnv]\"\n",
      "'LaTeX-incompatible input and strict mode is set to \\'warn\\': Unicode text character \"，\" used in math mode [unicodeTextInMathMode]'\n",
      "'LaTeX-incompatible input and strict mode is set to \\'warn\\': Unicode text character \"）\" used in math mode [unicodeTextInMathMode]'\n",
      "'LaTeX-incompatible input and strict mode is set to \\'warn\\': Unrecognized Unicode character \"﹣\" (65123) [unknownSymbol]'\n",
      "'LaTeX-incompatible input and strict mode is set to \\'warn\\': Unicode text character \"，\" used in math mode [unicodeTextInMathMode]'\n",
      "'LaTeX-incompatible input and strict mode is set to \\'warn\\': Unicode text character \"＜\" used in math mode [unicodeTextInMathMode]'\n",
      "'LaTeX-incompatible input and strict mode is set to \\'warn\\': Unicode text character \"，\" used in math mode [unicodeTextInMathMode]'\n",
      "'LaTeX-incompatible input and strict mode is set to \\'warn\\': Unicode text character \"：\" used in math mode [unicodeTextInMathMode]'\n",
      "'LaTeX-incompatible input and strict mode is set to \\'warn\\': Unicode text character \"，\" used in math mode [unicodeTextInMathMode]'\n",
      "'LaTeX-incompatible input and strict mode is set to \\'warn\\': Unicode text character \"，\" used in math mode [unicodeTextInMathMode]'\n",
      "'LaTeX-incompatible input and strict mode is set to \\'warn\\': Unicode text character \"＞\" used in math mode [unicodeTextInMathMode]'\n",
      "'LaTeX-incompatible input and strict mode is set to \\'warn\\': Unicode text character \"，\" used in math mode [unicodeTextInMathMode]'\n",
      "'LaTeX-incompatible input and strict mode is set to \\'warn\\': Unicode text character \"（\" used in math mode [unicodeTextInMathMode]'\n",
      "'LaTeX-incompatible input and strict mode is set to \\'warn\\': Unicode text character \"，\" used in math mode [unicodeTextInMathMode]'\n",
      "'LaTeX-incompatible input and strict mode is set to \\'warn\\': Unicode text character \"，\" used in math mode [unicodeTextInMathMode]'\n",
      "'LaTeX-incompatible input and strict mode is set to \\'warn\\': Unicode text character \"，\" used in math mode [unicodeTextInMathMode]'\n",
      "'LaTeX-incompatible input and strict mode is set to \\'warn\\': Unicode text character \"）\" used in math mode [unicodeTextInMathMode]'\n",
      "'LaTeX-incompatible input and strict mode is set to \\'warn\\': Unicode text character \"，\" used in math mode [unicodeTextInMathMode]'\n",
      "'LaTeX-incompatible input and strict mode is set to \\'warn\\': Unicode text character \"，\" used in math mode [unicodeTextInMathMode]'\n",
      "'LaTeX-incompatible input and strict mode is set to \\'warn\\': Unicode text character \"：\" used in math mode [unicodeTextInMathMode]'\n",
      "'LaTeX-incompatible input and strict mode is set to \\'warn\\': Unicode text character \"：\" used in math mode [unicodeTextInMathMode]'\n",
      "'LaTeX-incompatible input and strict mode is set to \\'warn\\': Unicode text character \"＞\" used in math mode [unicodeTextInMathMode]'\n",
      "'LaTeX-incompatible input and strict mode is set to \\'warn\\': Unicode text character \"：\" used in math mode [unicodeTextInMathMode]'\n",
      "'LaTeX-incompatible input and strict mode is set to \\'warn\\': Unicode text character \"，\" used in math mode [unicodeTextInMathMode]'\n",
      "'LaTeX-incompatible input and strict mode is set to \\'warn\\': Unicode text character \"则\" used in math mode [unicodeTextInMathMode]'\n",
      "'LaTeX-incompatible input and strict mode is set to \\'warn\\': Unicode text character \"所\" used in math mode [unicodeTextInMathMode]'\n",
      "'LaTeX-incompatible input and strict mode is set to \\'warn\\': Unicode text character \"成\" used in math mode [unicodeTextInMathMode]'\n",
      "'LaTeX-incompatible input and strict mode is set to \\'warn\\': Unicode text character \"角\" used in math mode [unicodeTextInMathMode]'\n",
      "'LaTeX-incompatible input and strict mode is set to \\'warn\\': Unicode text character \"的\" used in math mode [unicodeTextInMathMode]'\n",
      "'LaTeX-incompatible input and strict mode is set to \\'warn\\': Unicode text character \"正\" used in math mode [unicodeTextInMathMode]'\n",
      "'LaTeX-incompatible input and strict mode is set to \\'warn\\': Unicode text character \"弦\" used in math mode [unicodeTextInMathMode]'\n",
      "'LaTeX-incompatible input and strict mode is set to \\'warn\\': Unicode text character \"值\" used in math mode [unicodeTextInMathMode]'\n",
      "'LaTeX-incompatible input and strict mode is set to \\'warn\\': Unicode text character \"为\" used in math mode [unicodeTextInMathMode]'\n",
      "'LaTeX-incompatible input and strict mode is set to \\'warn\\': Unicode text character \"，\" used in math mode [unicodeTextInMathMode]'\n",
      "'LaTeX-incompatible input and strict mode is set to \\'warn\\': Unicode text character \"，\" used in math mode [unicodeTextInMathMode]'\n",
      "'LaTeX-incompatible input and strict mode is set to \\'warn\\': Unicode text character \"则\" used in math mode [unicodeTextInMathMode]'\n",
      "'LaTeX-incompatible input and strict mode is set to \\'warn\\': Unicode text character \"四\" used in math mode [unicodeTextInMathMode]'\n",
      "'LaTeX-incompatible input and strict mode is set to \\'warn\\': Unicode text character \"点\" used in math mode [unicodeTextInMathMode]'\n",
      "\"LaTeX-incompatible input and strict mode is set to 'warn': Too few columns specified in the {array} column argument. [textEnv]\"\n",
      "'LaTeX-incompatible input and strict mode is set to \\'warn\\': Unicode text character \"，\" used in math mode [unicodeTextInMathMode]'\n",
      "'LaTeX-incompatible input and strict mode is set to \\'warn\\': Unicode text character \"，\" used in math mode [unicodeTextInMathMode]'\n",
      "'LaTeX-incompatible input and strict mode is set to \\'warn\\': Unicode text character \"，\" used in math mode [unicodeTextInMathMode]'\n",
      "'LaTeX-incompatible input and strict mode is set to \\'warn\\': Unicode text character \"，\" used in math mode [unicodeTextInMathMode]'\n",
      "'LaTeX-incompatible input and strict mode is set to \\'warn\\': Unicode text character \"，\" used in math mode [unicodeTextInMathMode]'\n",
      "'LaTeX-incompatible input and strict mode is set to \\'warn\\': Unicode text character \"，\" used in math mode [unicodeTextInMathMode]'\n",
      "'LaTeX-incompatible input and strict mode is set to \\'warn\\': Unicode text character \"，\" used in math mode [unicodeTextInMathMode]'\n",
      "'LaTeX-incompatible input and strict mode is set to \\'warn\\': Unicode text character \"，\" used in math mode [unicodeTextInMathMode]'\n",
      "'LaTeX-incompatible input and strict mode is set to \\'warn\\': Unicode text character \"，\" used in math mode [unicodeTextInMathMode]'\n",
      "'LaTeX-incompatible input and strict mode is set to \\'warn\\': Unicode text character \"，\" used in math mode [unicodeTextInMathMode]'\n",
      "'LaTeX-incompatible input and strict mode is set to \\'warn\\': Unicode text character \"，\" used in math mode [unicodeTextInMathMode]'\n",
      "'LaTeX-incompatible input and strict mode is set to \\'warn\\': Unicode text character \"，\" used in math mode [unicodeTextInMathMode]'\n",
      "\"LaTeX-incompatible input and strict mode is set to 'warn': Too few columns specified in the {array} column argument. [textEnv]\"\n",
      "'LaTeX-incompatible input and strict mode is set to \\'warn\\': Unicode text character \"（\" used in math mode [unicodeTextInMathMode]'\n",
      "'LaTeX-incompatible input and strict mode is set to \\'warn\\': Unicode text character \"）\" used in math mode [unicodeTextInMathMode]'\n",
      "'LaTeX-incompatible input and strict mode is set to \\'warn\\': Unicode text character \"，\" used in math mode [unicodeTextInMathMode]'\n",
      "\"LaTeX-incompatible input and strict mode is set to 'warn': Too few columns specified in the {array} column argument. [textEnv]\"\n",
      "'LaTeX-incompatible input and strict mode is set to \\'warn\\': Unicode text character \"＞\" used in math mode [unicodeTextInMathMode]'\n",
      "'LaTeX-incompatible input and strict mode is set to \\'warn\\': Unicode text character \"，\" used in math mode [unicodeTextInMathMode]'\n",
      "'LaTeX-incompatible input and strict mode is set to \\'warn\\': Unicode text character \"，\" used in math mode [unicodeTextInMathMode]'\n",
      "'LaTeX-incompatible input and strict mode is set to \\'warn\\': Unicode text character \"，\" used in math mode [unicodeTextInMathMode]'\n",
      "'LaTeX-incompatible input and strict mode is set to \\'warn\\': Unicode text character \"＞\" used in math mode [unicodeTextInMathMode]'\n",
      "'LaTeX-incompatible input and strict mode is set to \\'warn\\': Unicode text character \"＞\" used in math mode [unicodeTextInMathMode]'\n",
      "'LaTeX-incompatible input and strict mode is set to \\'warn\\': Unicode text character \"＞\" used in math mode [unicodeTextInMathMode]'\n",
      "'LaTeX-incompatible input and strict mode is set to \\'warn\\': Unicode text character \"＜\" used in math mode [unicodeTextInMathMode]'\n",
      "'LaTeX-incompatible input and strict mode is set to \\'warn\\': Unicode text character \"＜\" used in math mode [unicodeTextInMathMode]'\n"
     ]
    },
    {
     "data": {
      "text/plain": "['已知',\n '集合',\n 'mathord',\n '=',\n 'mathord',\n '\\\\mid',\n 'mathord',\n 'textord',\n '{ }',\n '^',\n '-',\n 'textord',\n 'mathord',\n '-',\n 'textord',\n '<',\n 'textord',\n '\\\\{',\n ',',\n 'mathord',\n '=',\n '\\\\{',\n '-',\n 'textord',\n ',',\n 'textord',\n ',',\n 'textord',\n ',',\n 'textord',\n '\\\\}',\n ',',\n 'mathord',\n '\\\\cap',\n 'mathord',\n '=']"
     },
     "execution_count": 1,
     "metadata": {},
     "output_type": "execute_result"
    }
   ],
   "source": [
    "import json\n",
    "from tqdm import tqdm\n",
    "\n",
    "def load_items():\n",
    "    with open(\"../../../data/OpenLUNA.json\", encoding=\"utf-8\") as f:\n",
    "        for line in f:\n",
    "            yield json.loads(line)\n",
    "\n",
    "\n",
    "from EduNLP.Pretrain import GensimWordTokenizer\n",
    "\n",
    "tokenizer = GensimWordTokenizer(symbol=\"gm\")\n",
    "sif_items = []\n",
    "for item in tqdm(load_items(), \"sifing\"):\n",
    "    sif_item = tokenizer(\n",
    "        item[\"stem\"]\n",
    "    )\n",
    "    if sif_item:\n",
    "        sif_items.append(sif_item.tokens)\n",
    "\n",
    "sif_items[0]"
   ]
  },
  {
   "cell_type": "code",
   "execution_count": 2,
   "outputs": [
    {
     "data": {
      "text/plain": "788"
     },
     "execution_count": 2,
     "metadata": {},
     "output_type": "execute_result"
    }
   ],
   "source": [
    "len(sif_items)"
   ],
   "metadata": {
    "collapsed": false,
    "pycharm": {
     "name": "#%%\n"
    }
   }
  },
  {
   "cell_type": "code",
   "execution_count": 3,
   "outputs": [],
   "source": [
    "from EduNLP.Pretrain import train_vector"
   ],
   "metadata": {
    "collapsed": false,
    "pycharm": {
     "name": "#%%\n"
    }
   }
  },
  {
   "cell_type": "code",
   "execution_count": 4,
   "outputs": [
    {
     "name": "stderr",
     "output_type": "stream",
     "text": [
      "EduNLP, INFO Epoch #0: loss-0.0000 \n",
      "EduNLP, INFO Epoch #1: loss-0.0000 \n",
      "EduNLP, INFO Epoch #2: loss-0.0000 \n",
      "EduNLP, INFO Epoch #3: loss-0.0000 \n",
      "EduNLP, INFO Epoch #4: loss-0.0000 \n",
      "EduNLP, INFO Epoch #5: loss-0.0000 \n",
      "EduNLP, INFO Epoch #6: loss-0.0000 \n",
      "EduNLP, INFO Epoch #7: loss-0.0000 \n",
      "EduNLP, INFO Epoch #8: loss-0.0000 \n",
      "EduNLP, INFO Epoch #9: loss-0.0000 \n",
      "EduNLP, INFO model is saved to ../../../data/w2v/gensim_luna_stem_tf_d2v_10.bin\n"
     ]
    },
    {
     "data": {
      "text/plain": "'../../../data/w2v/gensim_luna_stem_tf_d2v_10.bin'"
     },
     "execution_count": 4,
     "metadata": {},
     "output_type": "execute_result"
    }
   ],
   "source": [
    "# 10 dimension with fasstext method\n",
    "train_vector(sif_items, \"../../../data/w2v/gensim_luna_stem_tf_\", 10, method=\"d2v\")"
   ],
   "metadata": {
    "collapsed": false,
    "pycharm": {
     "name": "#%%\n"
    }
   }
  },
  {
   "cell_type": "code",
   "execution_count": 5,
   "outputs": [
    {
     "data": {
      "text/plain": "array([-0.16680606, -0.04633714,  0.05006265,  0.2665265 , -0.04968905,\n        0.00479913,  0.0338746 ,  0.04415674, -0.22469515, -0.00274831],\n      dtype=float32)"
     },
     "execution_count": 5,
     "metadata": {},
     "output_type": "execute_result"
    }
   ],
   "source": [
    "from EduNLP.Vector import D2V\n",
    "\n",
    "d2v = D2V(\"../../../data/w2v/gensim_luna_stem_tf_d2v_10.bin\")\n",
    "d2v(sif_items[0])"
   ],
   "metadata": {
    "collapsed": false,
    "pycharm": {
     "name": "#%%\n"
    }
   }
  }
 ],
 "metadata": {
  "kernelspec": {
   "display_name": "Python 3",
   "language": "python",
   "name": "python3"
  },
  "language_info": {
   "codemirror_mode": {
    "name": "ipython",
    "version": 2
   },
   "file_extension": ".py",
   "mimetype": "text/x-python",
   "name": "python",
   "nbconvert_exporter": "python",
   "pygments_lexer": "ipython2",
   "version": "2.7.6"
  }
 },
 "nbformat": 4,
 "nbformat_minor": 0
}
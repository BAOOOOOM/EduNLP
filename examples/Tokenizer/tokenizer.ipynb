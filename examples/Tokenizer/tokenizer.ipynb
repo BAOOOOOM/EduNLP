{
 "cells": [
  {
   "cell_type": "code",
   "execution_count": 1,
   "source": [
    "from EduNLP.Tokenizer import TextTokenizer\n",
    "\n",
    "# 法一：直接调用类\n",
    "items = [\"已知集合$A=\\\\left\\\\{x \\\\mid x^{2}-3 x-4<0\\\\right\\\\}, \\\\quad B=\\\\{-4,1,3,5\\\\}, \\\\quad$ 则 $A \\\\cap B=$\"]\n",
    "tokenizer = TextTokenizer()\n",
    "tokens = tokenizer(items)\n",
    "next(tokens)  # doctest: +NORMALIZE_WHITESPACE"
   ],
   "outputs": [
    {
     "output_type": "stream",
     "name": "stderr",
     "text": [
      "/home/lvrui/.local/lib/python3.8/site-packages/gensim/similarities/__init__.py:15: UserWarning: The gensim.similarities.levenshtein submodule is disabled, because the optional Levenshtein package <https://pypi.org/project/python-Levenshtein/> is unavailable. Install Levenhstein (e.g. `pip install python-Levenshtein`) to suppress this warning.\n",
      "  warnings.warn(msg)\n"
     ]
    },
    {
     "output_type": "execute_result",
     "data": {
      "text/plain": [
       "['已知',\n",
       " '集合',\n",
       " 'A',\n",
       " '=',\n",
       " '\\\\left',\n",
       " '\\\\{',\n",
       " 'x',\n",
       " '\\\\mid',\n",
       " 'x',\n",
       " '^',\n",
       " '{',\n",
       " '2',\n",
       " '}',\n",
       " '-',\n",
       " '3',\n",
       " 'x',\n",
       " '-',\n",
       " '4',\n",
       " '<',\n",
       " '0',\n",
       " '\\\\right',\n",
       " '\\\\}',\n",
       " ',',\n",
       " '\\\\quad',\n",
       " 'B',\n",
       " '=',\n",
       " '\\\\{',\n",
       " '-',\n",
       " '4',\n",
       " ',',\n",
       " '1',\n",
       " ',',\n",
       " '3',\n",
       " ',',\n",
       " '5',\n",
       " '\\\\}',\n",
       " ',',\n",
       " '\\\\quad',\n",
       " 'A',\n",
       " '\\\\cap',\n",
       " 'B',\n",
       " '=']"
      ]
     },
     "metadata": {},
     "execution_count": 1
    }
   ],
   "metadata": {}
  },
  {
   "cell_type": "code",
   "execution_count": 2,
   "source": [
    "from EduNLP.Tokenizer import get_tokenizer\n",
    "\n",
    "# 法二：导入内部函数 get_tokenizer\n",
    "tokenizer_2 = get_tokenizer(\"text\")\n",
    "tokens_2 = tokenizer_2(items)\n",
    "next(tokens_2) "
   ],
   "outputs": [
    {
     "output_type": "execute_result",
     "data": {
      "text/plain": [
       "['已知',\n",
       " '集合',\n",
       " 'A',\n",
       " '=',\n",
       " '\\\\left',\n",
       " '\\\\{',\n",
       " 'x',\n",
       " '\\\\mid',\n",
       " 'x',\n",
       " '^',\n",
       " '{',\n",
       " '2',\n",
       " '}',\n",
       " '-',\n",
       " '3',\n",
       " 'x',\n",
       " '-',\n",
       " '4',\n",
       " '<',\n",
       " '0',\n",
       " '\\\\right',\n",
       " '\\\\}',\n",
       " ',',\n",
       " '\\\\quad',\n",
       " 'B',\n",
       " '=',\n",
       " '\\\\{',\n",
       " '-',\n",
       " '4',\n",
       " ',',\n",
       " '1',\n",
       " ',',\n",
       " '3',\n",
       " ',',\n",
       " '5',\n",
       " '\\\\}',\n",
       " ',',\n",
       " '\\\\quad',\n",
       " 'A',\n",
       " '\\\\cap',\n",
       " 'B',\n",
       " '=']"
      ]
     },
     "metadata": {},
     "execution_count": 2
    }
   ],
   "metadata": {}
  }
 ],
 "metadata": {
  "orig_nbformat": 4,
  "language_info": {
   "name": "python",
   "version": "3.8.5",
   "mimetype": "text/x-python",
   "codemirror_mode": {
    "name": "ipython",
    "version": 3
   },
   "pygments_lexer": "ipython3",
   "nbconvert_exporter": "python",
   "file_extension": ".py"
  },
  "kernelspec": {
   "name": "python3",
   "display_name": "Python 3.8.5 64-bit"
  },
  "interpreter": {
   "hash": "e7370f93d1d0cde622a1f8e1c04877d8463912d04d973331ad4851f04de6915a"
  }
 },
 "nbformat": 4,
 "nbformat_minor": 2
}
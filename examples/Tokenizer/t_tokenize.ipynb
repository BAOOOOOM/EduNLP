{
 "cells": [
  {
   "cell_type": "markdown",
   "source": [
    "# 令牌化\r\n",
    "\r\n",
    "## 概述\r\n",
    "\r\n",
    "此模块可以定制化的将文本切分为令牌（token）序列，在此，将展示三种方式来进行令牌化：调用tokenize函数、调用sif4sci函数、调用封装好的tokenizer。"
   ],
   "metadata": {}
  }
 ],
 "metadata": {
  "orig_nbformat": 4,
  "language_info": {
   "name": "python"
  }
 },
 "nbformat": 4,
 "nbformat_minor": 2
}
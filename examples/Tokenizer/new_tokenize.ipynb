{
 "cells": [
  {
   "cell_type": "markdown",
   "source": [
    "# 令牌化\r\n",
    "\r\n",
    "## 概述\r\n",
    "\r\n",
    "此模块可以定制化的将文本切分为令牌（token）序列，在此，将展示三种方式来进行令牌化：调用tokenize函数、调用sif4sci函数、调用封装好的tokenizer。"
   ],
   "metadata": {}
  },
  {
   "cell_type": "code",
   "execution_count": null,
   "source": [
    "from EduNLP.Tokenizer import PureTextTokenizer, TextTokenizer, get_tokenizer"
   ],
   "outputs": [
    {
     "output_type": "stream",
     "name": "stderr",
     "text": [
      "D:\\MySoftwares\\Anaconda\\envs\\data\\lib\\site-packages\\gensim\\similarities\\__init__.py:15: UserWarning: The gensim.similarities.levenshtein submodule is disabled, because the optional Levenshtein package <https://pypi.org/project/python-Levenshtein/> is unavailable. Install Levenhstein (e.g. `pip install python-Levenshtein`) to suppress this warning.\n",
      "  warnings.warn(msg)\n"
     ]
    }
   ],
   "metadata": {}
  }
 ],
 "metadata": {
  "orig_nbformat": 4,
  "language_info": {
   "name": "python"
  }
 },
 "nbformat": 4,
 "nbformat_minor": 2
}
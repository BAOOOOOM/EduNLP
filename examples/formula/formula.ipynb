{
 "cells": [
  {
   "cell_type": "markdown",
   "source": [
    "# Formula\n",
    "\n",
    "## 概述\n",
    "\n",
    "Formula 首先在分词功能中（SIF/segment ==> SIF/tokenization）中对原始文本的公式做切分处理，之后在 Formula/ast 中提供 [公式解析树] 功能，可以将数学公式的抽象语法分析树用文本或图片的形式表示出来。  \n",
    "\n",
    "本模块另提供公式变量标准化的功能，如判断几个子公式内的‘x’为同一变量。"
   ],
   "metadata": {}
  },
  {
   "cell_type": "code",
   "execution_count": 1,
   "source": [
    "import matplotlib.pyplot as plt\n",
    "from EduNLP.Formula import Formula\n",
    "from EduNLP.Formula import FormulaGroup\n",
    "from EduNLP.Formula.viz import ForestPlotter"
   ],
   "outputs": [
    {
     "output_type": "stream",
     "name": "stderr",
     "text": [
      "/home/lvrui/.local/lib/python3.8/site-packages/gensim/similarities/__init__.py:15: UserWarning: The gensim.similarities.levenshtein submodule is disabled, because the optional Levenshtein package <https://pypi.org/project/python-Levenshtein/> is unavailable. Install Levenhstein (e.g. `pip install python-Levenshtein`) to suppress this warning.\n",
      "  warnings.warn(msg)\n",
      "/home/lvrui/.local/lib/python3.8/site-packages/EduNLP/Formula/viz/__init__.py:5: UserWarning: Do not use this package\n",
      "  warnings.warn(\"Do not use this package\")\n"
     ]
    }
   ],
   "metadata": {}
  },
  {
   "cell_type": "markdown",
   "source": [
    "## 公式语法结构分析\n",
    "\n",
    "### 初始化实例\n",
    "\n",
    "- item 类型：`str or List[Dict]` \n",
    "- item 内容：latex 公式 或 公式经解析后产生的抽象语法分析树(abstracted syntax tree)"
   ],
   "metadata": {}
  },
  {
   "cell_type": "code",
   "execution_count": 2,
   "source": [
    "f = Formula(\"x^2 + x+1 = y\")\n",
    "f "
   ],
   "outputs": [
    {
     "output_type": "execute_result",
     "data": {
      "text/plain": [
       "<Formula: x^2 + x+1 = y>"
      ]
     },
     "metadata": {},
     "execution_count": 2
    }
   ],
   "metadata": {
    "collapsed": true
   }
  },
  {
   "cell_type": "markdown",
   "source": [
    "查看公式切分后的结点元素:"
   ],
   "metadata": {}
  },
  {
   "cell_type": "code",
   "execution_count": 3,
   "source": [
    "f.elements"
   ],
   "outputs": [
    {
     "output_type": "execute_result",
     "data": {
      "text/plain": [
       "[{'id': 0, 'type': 'supsub', 'text': '\\\\supsub', 'role': None},\n",
       " {'id': 1, 'type': 'mathord', 'text': 'x', 'role': 'base'},\n",
       " {'id': 2, 'type': 'textord', 'text': '2', 'role': 'sup'},\n",
       " {'id': 3, 'type': 'bin', 'text': '+', 'role': None},\n",
       " {'id': 4, 'type': 'mathord', 'text': 'x', 'role': None},\n",
       " {'id': 5, 'type': 'bin', 'text': '+', 'role': None},\n",
       " {'id': 6, 'type': 'textord', 'text': '1', 'role': None},\n",
       " {'id': 7, 'type': 'rel', 'text': '=', 'role': None},\n",
       " {'id': 8, 'type': 'mathord', 'text': 'y', 'role': None}]"
      ]
     },
     "metadata": {},
     "execution_count": 3
    }
   ],
   "metadata": {}
  },
  {
   "cell_type": "markdown",
   "source": [
    "查看公式的抽象语法分析树："
   ],
   "metadata": {}
  },
  {
   "cell_type": "code",
   "execution_count": 4,
   "source": [
    "f.ast "
   ],
   "outputs": [
    {
     "output_type": "execute_result",
     "data": {
      "text/plain": [
       "[{'val': {'id': 0, 'type': 'supsub', 'text': '\\\\supsub', 'role': None},\n",
       "  'structure': {'bro': [None, 3],\n",
       "   'child': [1, 2],\n",
       "   'father': None,\n",
       "   'forest': None}},\n",
       " {'val': {'id': 1, 'type': 'mathord', 'text': 'x', 'role': 'base'},\n",
       "  'structure': {'bro': [None, 2], 'child': None, 'father': 0, 'forest': None}},\n",
       " {'val': {'id': 2, 'type': 'textord', 'text': '2', 'role': 'sup'},\n",
       "  'structure': {'bro': [1, None], 'child': None, 'father': 0, 'forest': None}},\n",
       " {'val': {'id': 3, 'type': 'bin', 'text': '+', 'role': None},\n",
       "  'structure': {'bro': [0, 4], 'child': None, 'father': None, 'forest': None}},\n",
       " {'val': {'id': 4, 'type': 'mathord', 'text': 'x', 'role': None},\n",
       "  'structure': {'bro': [3, 5], 'child': None, 'father': None, 'forest': None}},\n",
       " {'val': {'id': 5, 'type': 'bin', 'text': '+', 'role': None},\n",
       "  'structure': {'bro': [4, 6], 'child': None, 'father': None, 'forest': None}},\n",
       " {'val': {'id': 6, 'type': 'textord', 'text': '1', 'role': None},\n",
       "  'structure': {'bro': [5, 7], 'child': None, 'father': None, 'forest': None}},\n",
       " {'val': {'id': 7, 'type': 'rel', 'text': '=', 'role': None},\n",
       "  'structure': {'bro': [6, 8], 'child': None, 'father': None, 'forest': None}},\n",
       " {'val': {'id': 8, 'type': 'mathord', 'text': 'y', 'role': None},\n",
       "  'structure': {'bro': [7, None],\n",
       "   'child': None,\n",
       "   'father': None,\n",
       "   'forest': None}}]"
      ]
     },
     "metadata": {},
     "execution_count": 4
    }
   ],
   "metadata": {}
  },
  {
   "cell_type": "code",
   "execution_count": 13,
   "source": [
    "print('nodes: ',f.ast_graph.nodes)\n",
    "print('edges: ' ,f.ast_graph.edges)\n"
   ],
   "outputs": [
    {
     "output_type": "stream",
     "name": "stdout",
     "text": [
      "nodes:  [0, 1, 2, 3, 4, 5, 6, 7, 8]\n",
      "edges:  [(0, 1), (0, 2)]\n"
     ]
    }
   ],
   "metadata": {
    "collapsed": false,
    "pycharm": {
     "name": "#%%\n"
    }
   }
  },
  {
   "cell_type": "code",
   "execution_count": 17,
   "source": [
    "ForestPlotter().export(\n",
    "    f.ast_graph, root_list=[node[\"val\"][\"id\"] for node in f.ast if node[\"structure\"][\"father\"] is None],\n",
    ")\n",
    "plt.show()"
   ],
   "outputs": [
    {
     "output_type": "display_data",
     "data": {
      "text/plain": [
       "<Figure size 432x288 with 1 Axes>"
      ],
      "image/png": "[encoded data removed]"
     },
     "metadata": {
      "needs_background": "light"
     }
    }
   ],
   "metadata": {
    "collapsed": false,
    "pycharm": {
     "name": "#%%\n"
    }
   }
  },
  {
   "cell_type": "markdown",
   "source": [
    "## 变量标准化\n",
    "\n",
    "下面这个例子中，`var` 为变量编号。同一变量拥有相同的变量编号。  \n",
    "如：`x` 变量的编号为 `0`， `y` 变量的编号为 `1`。"
   ],
   "metadata": {}
  },
  {
   "cell_type": "code",
   "execution_count": 20,
   "source": [
    "f.variable_standardization().elements"
   ],
   "outputs": [
    {
     "output_type": "execute_result",
     "data": {
      "text/plain": [
       "[{'id': 0, 'type': 'supsub', 'text': '\\\\supsub', 'role': None},\n",
       " {'id': 1, 'type': 'mathord', 'text': 'x', 'role': 'base', 'var': 0},\n",
       " {'id': 2, 'type': 'textord', 'text': '2', 'role': 'sup'},\n",
       " {'id': 3, 'type': 'bin', 'text': '+', 'role': None},\n",
       " {'id': 4, 'type': 'mathord', 'text': 'x', 'role': None, 'var': 0},\n",
       " {'id': 5, 'type': 'bin', 'text': '+', 'role': None},\n",
       " {'id': 6, 'type': 'textord', 'text': '1', 'role': None},\n",
       " {'id': 7, 'type': 'rel', 'text': '=', 'role': None},\n",
       " {'id': 8, 'type': 'mathord', 'text': 'y', 'role': None, 'var': 1}]"
      ]
     },
     "metadata": {},
     "execution_count": 20
    }
   ],
   "metadata": {
    "collapsed": false,
    "pycharm": {
     "name": "#%%\n"
    }
   }
  },
  {
   "cell_type": "markdown",
   "source": [
    "## 方程组结构解析\n",
    "\n",
    "调用 `FormulaGroup` 类解析公式方程组，相关的属性和函数方法同上。"
   ],
   "metadata": {}
  },
  {
   "cell_type": "code",
   "execution_count": 21,
   "source": [
    "fs = FormulaGroup([\n",
    "    \"x^2 = y\",\n",
    "    \"x^3 = y^2\",\n",
    "    \"x + y = \\pi\"\n",
    "])\n",
    "fs"
   ],
   "outputs": [
    {
     "output_type": "execute_result",
     "data": {
      "text/plain": [
       "<FormulaGroup: <Formula: x^2 = y>;<Formula: x^3 = y^2>;<Formula: x + y = \\pi>>"
      ]
     },
     "metadata": {},
     "execution_count": 21
    }
   ],
   "metadata": {
    "collapsed": false,
    "pycharm": {
     "name": "#%%\n"
    }
   }
  },
  {
   "cell_type": "code",
   "execution_count": 22,
   "source": [
    "fs.elements"
   ],
   "outputs": [
    {
     "output_type": "execute_result",
     "data": {
      "text/plain": [
       "[{'id': 0, 'type': 'supsub', 'text': '\\\\supsub', 'role': None},\n",
       " {'id': 1, 'type': 'mathord', 'text': 'x', 'role': 'base'},\n",
       " {'id': 2, 'type': 'textord', 'text': '2', 'role': 'sup'},\n",
       " {'id': 3, 'type': 'rel', 'text': '=', 'role': None},\n",
       " {'id': 4, 'type': 'mathord', 'text': 'y', 'role': None},\n",
       " {'id': 5, 'type': 'supsub', 'text': '\\\\supsub', 'role': None},\n",
       " {'id': 6, 'type': 'mathord', 'text': 'x', 'role': 'base'},\n",
       " {'id': 7, 'type': 'textord', 'text': '3', 'role': 'sup'},\n",
       " {'id': 8, 'type': 'rel', 'text': '=', 'role': None},\n",
       " {'id': 9, 'type': 'supsub', 'text': '\\\\supsub', 'role': None},\n",
       " {'id': 10, 'type': 'mathord', 'text': 'y', 'role': 'base'},\n",
       " {'id': 11, 'type': 'textord', 'text': '2', 'role': 'sup'},\n",
       " {'id': 12, 'type': 'mathord', 'text': 'x', 'role': None},\n",
       " {'id': 13, 'type': 'bin', 'text': '+', 'role': None},\n",
       " {'id': 14, 'type': 'mathord', 'text': 'y', 'role': None},\n",
       " {'id': 15, 'type': 'rel', 'text': '=', 'role': None},\n",
       " {'id': 16, 'type': 'mathord', 'text': '\\\\pi', 'role': None}]"
      ]
     },
     "metadata": {},
     "execution_count": 22
    }
   ],
   "metadata": {}
  },
  {
   "cell_type": "code",
   "execution_count": 23,
   "source": [
    "fs.ast"
   ],
   "outputs": [
    {
     "output_type": "execute_result",
     "data": {
      "text/plain": [
       "[{'val': {'id': 0, 'type': 'supsub', 'text': '\\\\supsub', 'role': None},\n",
       "  'structure': {'bro': [None, 3],\n",
       "   'child': [1, 2],\n",
       "   'father': None,\n",
       "   'forest': None}},\n",
       " {'val': {'id': 1, 'type': 'mathord', 'text': 'x', 'role': 'base'},\n",
       "  'structure': {'bro': [None, 2],\n",
       "   'child': None,\n",
       "   'father': 0,\n",
       "   'forest': [6, 12]}},\n",
       " {'val': {'id': 2, 'type': 'textord', 'text': '2', 'role': 'sup'},\n",
       "  'structure': {'bro': [1, None], 'child': None, 'father': 0, 'forest': None}},\n",
       " {'val': {'id': 3, 'type': 'rel', 'text': '=', 'role': None},\n",
       "  'structure': {'bro': [0, 4], 'child': None, 'father': None, 'forest': None}},\n",
       " {'val': {'id': 4, 'type': 'mathord', 'text': 'y', 'role': None},\n",
       "  'structure': {'bro': [3, None],\n",
       "   'child': None,\n",
       "   'father': None,\n",
       "   'forest': [10, 14]}},\n",
       " {'val': {'id': 5, 'type': 'supsub', 'text': '\\\\supsub', 'role': None},\n",
       "  'structure': {'bro': [None, 8],\n",
       "   'child': [6, 7],\n",
       "   'father': None,\n",
       "   'forest': None}},\n",
       " {'val': {'id': 6, 'type': 'mathord', 'text': 'x', 'role': 'base'},\n",
       "  'structure': {'bro': [None, 7],\n",
       "   'child': None,\n",
       "   'father': 5,\n",
       "   'forest': [1, 12]}},\n",
       " {'val': {'id': 7, 'type': 'textord', 'text': '3', 'role': 'sup'},\n",
       "  'structure': {'bro': [6, None], 'child': None, 'father': 5, 'forest': None}},\n",
       " {'val': {'id': 8, 'type': 'rel', 'text': '=', 'role': None},\n",
       "  'structure': {'bro': [5, 9], 'child': None, 'father': None, 'forest': None}},\n",
       " {'val': {'id': 9, 'type': 'supsub', 'text': '\\\\supsub', 'role': None},\n",
       "  'structure': {'bro': [8, None],\n",
       "   'child': [10, 11],\n",
       "   'father': None,\n",
       "   'forest': None}},\n",
       " {'val': {'id': 10, 'type': 'mathord', 'text': 'y', 'role': 'base'},\n",
       "  'structure': {'bro': [None, 11],\n",
       "   'child': None,\n",
       "   'father': 9,\n",
       "   'forest': [4, 14]}},\n",
       " {'val': {'id': 11, 'type': 'textord', 'text': '2', 'role': 'sup'},\n",
       "  'structure': {'bro': [10, None],\n",
       "   'child': None,\n",
       "   'father': 9,\n",
       "   'forest': None}},\n",
       " {'val': {'id': 12, 'type': 'mathord', 'text': 'x', 'role': None},\n",
       "  'structure': {'bro': [None, 13],\n",
       "   'child': None,\n",
       "   'father': None,\n",
       "   'forest': [1, 6]}},\n",
       " {'val': {'id': 13, 'type': 'bin', 'text': '+', 'role': None},\n",
       "  'structure': {'bro': [12, 14],\n",
       "   'child': None,\n",
       "   'father': None,\n",
       "   'forest': None}},\n",
       " {'val': {'id': 14, 'type': 'mathord', 'text': 'y', 'role': None},\n",
       "  'structure': {'bro': [13, 15],\n",
       "   'child': None,\n",
       "   'father': None,\n",
       "   'forest': [4, 10]}},\n",
       " {'val': {'id': 15, 'type': 'rel', 'text': '=', 'role': None},\n",
       "  'structure': {'bro': [14, 16],\n",
       "   'child': None,\n",
       "   'father': None,\n",
       "   'forest': None}},\n",
       " {'val': {'id': 16, 'type': 'mathord', 'text': '\\\\pi', 'role': None},\n",
       "  'structure': {'bro': [15, None],\n",
       "   'child': None,\n",
       "   'father': None,\n",
       "   'forest': None}}]"
      ]
     },
     "metadata": {},
     "execution_count": 23
    }
   ],
   "metadata": {}
  },
  {
   "cell_type": "code",
   "execution_count": 25,
   "source": [
    "ForestPlotter().export(\n",
    "    fs.ast_graph, root_list=[node[\"val\"][\"id\"] for node in fs.ast if node[\"structure\"][\"father\"] is None],\n",
    ")"
   ],
   "outputs": [
    {
     "output_type": "execute_result",
     "data": {
      "text/plain": [
       "[Text(22.32, 181.2, 'id: 0\\ntype: supsub\\ntext: \\\\supsub\\nrole: None'),\n",
       " Text(11.16, 108.72, 'id: 1\\ntype: mathord\\ntext: x\\nrole: base'),\n",
       " Text(33.480000000000004, 108.72, 'id: 2\\ntype: textord\\ntext: 2\\nrole: sup'),\n",
       " Text(55.8, 181.2, 'id: 3\\ntype: rel\\ntext: =\\nrole: None'),\n",
       " Text(78.12, 181.2, 'id: 4\\ntype: mathord\\ntext: y\\nrole: None'),\n",
       " Text(111.6, 181.2, 'id: 5\\ntype: supsub\\ntext: \\\\supsub\\nrole: None'),\n",
       " Text(100.44, 108.72, 'id: 6\\ntype: mathord\\ntext: x\\nrole: base'),\n",
       " Text(122.76, 108.72, 'id: 7\\ntype: textord\\ntext: 3\\nrole: sup'),\n",
       " Text(145.08, 181.2, 'id: 8\\ntype: rel\\ntext: =\\nrole: None'),\n",
       " Text(178.56, 181.2, 'id: 9\\ntype: supsub\\ntext: \\\\supsub\\nrole: None'),\n",
       " Text(167.4, 108.72, 'id: 10\\ntype: mathord\\ntext: y\\nrole: base'),\n",
       " Text(189.72, 108.72, 'id: 11\\ntype: textord\\ntext: 2\\nrole: sup'),\n",
       " Text(212.04, 181.2, 'id: 12\\ntype: mathord\\ntext: x\\nrole: None'),\n",
       " Text(234.36, 181.2, 'id: 13\\ntype: bin\\ntext: +\\nrole: None'),\n",
       " Text(256.68, 181.2, 'id: 14\\ntype: mathord\\ntext: y\\nrole: None'),\n",
       " Text(279.0, 181.2, 'id: 15\\ntype: rel\\ntext: =\\nrole: None'),\n",
       " Text(301.32, 181.2, 'id: 16\\ntype: mathord\\ntext: \\\\pi\\nrole: None')]"
      ]
     },
     "metadata": {},
     "execution_count": 25
    },
    {
     "output_type": "display_data",
     "data": {
      "text/plain": [
       "<Figure size 432x288 with 1 Axes>"
      ],
      "image/png": "[encoded data removed]"
     },
     "metadata": {
      "needs_background": "light"
     }
    }
   ],
   "metadata": {}
  },
  {
   "cell_type": "code",
   "execution_count": 28,
   "source": [
    "for ft in fs.variable_standardization():\n",
    "    print(ft.elements)"
   ],
   "outputs": [
    {
     "output_type": "stream",
     "name": "stdout",
     "text": [
      "[{'id': 0, 'type': 'supsub', 'text': '\\\\supsub', 'role': None}, {'id': 1, 'type': 'mathord', 'text': 'x', 'role': 'base', 'var': 0}, {'id': 2, 'type': 'textord', 'text': '2', 'role': 'sup'}, {'id': 3, 'type': 'rel', 'text': '=', 'role': None}, {'id': 4, 'type': 'mathord', 'text': 'y', 'role': None, 'var': 1}]\n",
      "[{'id': 5, 'type': 'supsub', 'text': '\\\\supsub', 'role': None}, {'id': 6, 'type': 'mathord', 'text': 'x', 'role': 'base', 'var': 0}, {'id': 7, 'type': 'textord', 'text': '3', 'role': 'sup'}, {'id': 8, 'type': 'rel', 'text': '=', 'role': None}, {'id': 9, 'type': 'supsub', 'text': '\\\\supsub', 'role': None}, {'id': 10, 'type': 'mathord', 'text': 'y', 'role': 'base', 'var': 1}, {'id': 11, 'type': 'textord', 'text': '2', 'role': 'sup'}]\n",
      "[{'id': 12, 'type': 'mathord', 'text': 'x', 'role': None, 'var': 0}, {'id': 13, 'type': 'bin', 'text': '+', 'role': None}, {'id': 14, 'type': 'mathord', 'text': 'y', 'role': None, 'var': 1}, {'id': 15, 'type': 'rel', 'text': '=', 'role': None}, {'id': 16, 'type': 'mathord', 'text': '\\\\pi', 'role': None}]\n"
     ]
    }
   ],
   "metadata": {
    "collapsed": false,
    "pycharm": {
     "name": "#%%\n"
    }
   }
  }
 ],
 "metadata": {
  "kernelspec": {
   "name": "python3",
   "display_name": "Python 3.8.5 64-bit"
  },
  "language_info": {
   "name": "python",
   "version": "3.8.5",
   "mimetype": "text/x-python",
   "codemirror_mode": {
    "name": "ipython",
    "version": 3
   },
   "pygments_lexer": "ipython3",
   "nbconvert_exporter": "python",
   "file_extension": ".py"
  },
  "interpreter": {
   "hash": "e7370f93d1d0cde622a1f8e1c04877d8463912d04d973331ad4851f04de6915a"
  }
 },
 "nbformat": 4,
 "nbformat_minor": 2
}
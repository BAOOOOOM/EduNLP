{
 "cells": [
  {
   "cell_type": "markdown",
   "source": [
    "# 语义成分分解"
   ],
   "metadata": {}
  },
  {
<<<<<<< HEAD
   "cell_type": "markdown",
   "source": [
    "## 导入模块"
   ],
   "metadata": {}
  },
  {
=======
>>>>>>> 5ab4854b328241d38f8e43d9b618a07fed473c84
   "cell_type": "code",
   "execution_count": 1,
   "source": [
    "from EduNLP.utils import dict2str4sif"
   ],
   "outputs": [
    {
     "output_type": "stream",
     "name": "stderr",
     "text": [
<<<<<<< HEAD
      "/usr/lib/python3/dist-packages/requests/__init__.py:89: RequestsDependencyWarning: urllib3 (1.26.6) or chardet (3.0.4) doesn't match a supported version!\n",
      "  warnings.warn(\"urllib3 ({}) or chardet ({}) doesn't match a supported \"\n"
=======
      "/home/lvrui/.local/lib/python3.8/site-packages/gensim/similarities/__init__.py:15: UserWarning: The gensim.similarities.levenshtein submodule is disabled, because the optional Levenshtein package <https://pypi.org/project/python-Levenshtein/> is unavailable. Install Levenhstein (e.g. `pip install python-Levenshtein`) to suppress this warning.\n",
      "  warnings.warn(msg)\n"
>>>>>>> 5ab4854b328241d38f8e43d9b618a07fed473c84
     ]
    }
   ],
   "metadata": {}
  },
  {
<<<<<<< HEAD
   "cell_type": "markdown",
   "source": [
    "## 测试数据"
   ],
   "metadata": {}
  },
  {
   "cell_type": "code",
   "execution_count": 3,
   "source": [
    "item = {\n",
    "    \"stem\": r\"若复数$z=1+2 i+i^{3}$，则$|z|=$\",\n",
    "    \"options\": ['0', '1', r'$\\sqrt{2}$', '2'],\n",
    "    }\n",
=======
   "cell_type": "code",
   "execution_count": 3,
   "source": [
    "item = {\r\n",
    "    \"stem\": r\"若复数$z=1+2 i+i^{3}$，则$|z|=$\",\r\n",
    "    \"options\": ['0', '1', r'$\\sqrt{2}$', '2'],\r\n",
    "    }\r\n",
>>>>>>> 5ab4854b328241d38f8e43d9b618a07fed473c84
    "item"
   ],
   "outputs": [
    {
     "output_type": "execute_result",
     "data": {
      "text/plain": [
       "{'stem': '若复数$z=1+2 i+i^{3}$，则$|z|=$',\n",
       " 'options': ['0', '1', '$\\\\sqrt{2}$', '2']}"
      ]
     },
     "metadata": {},
     "execution_count": 3
    }
   ],
   "metadata": {}
  },
  {
<<<<<<< HEAD
   "cell_type": "markdown",
   "source": [
    "## 区分题目成分"
   ],
   "metadata": {}
  },
  {
   "cell_type": "markdown",
   "source": [
    "- 通过添加特殊关键词的方式，区分题目的题干和选项，选项之间按顺序做编号标记。"
   ],
   "metadata": {}
  },
  {
   "cell_type": "code",
   "execution_count": 15,
   "source": [
    "dict2str4sif(item,key_as_tag=True,\n",
    "             add_list_no_tag=False,\n",
    "            #  keys=[\"options\"],\n",
    "             tag_mode=\"head\"\n",
    "             )\n"
=======
   "cell_type": "code",
   "execution_count": 4,
   "source": [
    "# 给题目各个部分加标签\r\n",
    "dict2str4sif(item)"
>>>>>>> 5ab4854b328241d38f8e43d9b618a07fed473c84
   ],
   "outputs": [
    {
     "output_type": "execute_result",
     "data": {
      "text/plain": [
<<<<<<< HEAD
       "'$\\\\SIFTag{stem}$若复数$z=1+2 i+i^{3}$，则$|z|=$$\\\\SIFTag{options}$0$\\\\SIFSep$1$\\\\SIFSep$$\\\\sqrt{2}$$\\\\SIFSep$2'"
      ]
     },
     "metadata": {},
     "execution_count": 15
=======
       "'$\\\\SIFTag{stem_begin}$若复数$z=1+2 i+i^{3}$，则$|z|=$$\\\\SIFTag{stem_end}$$\\\\SIFTag{options_begin}$$\\\\SIFTag{list_0}$0$\\\\SIFTag{list_1}$1$\\\\SIFTag{list_2}$$\\\\sqrt{2}$$\\\\SIFTag{list_3}$2$\\\\SIFTag{options_end}$'"
      ]
     },
     "metadata": {},
     "execution_count": 4
>>>>>>> 5ab4854b328241d38f8e43d9b618a07fed473c84
    }
   ],
   "metadata": {}
  },
  {
<<<<<<< HEAD
   "cell_type": "markdown",
   "source": [],
   "metadata": {}
  },
  {
=======
>>>>>>> 5ab4854b328241d38f8e43d9b618a07fed473c84
   "cell_type": "code",
   "execution_count": 5,
   "source": [
    "dict2str4sif(item, add_list_no_tag=True)"
   ],
   "outputs": [
    {
     "output_type": "execute_result",
     "data": {
      "text/plain": [
       "'$\\\\SIFTag{stem_begin}$若复数$z=1+2 i+i^{3}$，则$|z|=$$\\\\SIFTag{stem_end}$$\\\\SIFTag{options_begin}$$\\\\SIFTag{list_0}$0$\\\\SIFTag{list_1}$1$\\\\SIFTag{list_2}$$\\\\sqrt{2}$$\\\\SIFTag{list_3}$2$\\\\SIFTag{options_end}$'"
      ]
     },
     "metadata": {},
     "execution_count": 5
    }
   ],
   "metadata": {}
  },
  {
   "cell_type": "code",
<<<<<<< HEAD
   "execution_count": 6,
   "source": [
    "dict2str4sif(item, add_list_no_tag=False)"
=======
   "execution_count": 7,
   "source": [
    "dict2str4sif(item, tag_mode=\"head\")"
>>>>>>> 5ab4854b328241d38f8e43d9b618a07fed473c84
   ],
   "outputs": [
    {
     "output_type": "execute_result",
     "data": {
      "text/plain": [
<<<<<<< HEAD
       "'$\\\\SIFTag{stem_begin}$若复数$z=1+2 i+i^{3}$，则$|z|=$$\\\\SIFTag{stem_end}$$\\\\SIFTag{options_begin}$0$\\\\SIFSep$1$\\\\SIFSep$$\\\\sqrt{2}$$\\\\SIFSep$2$\\\\SIFTag{options_end}$'"
      ]
     },
     "metadata": {},
     "execution_count": 6
=======
       "'$\\\\SIFTag{stem}$若复数$z=1+2 i+i^{3}$，则$|z|=$$\\\\SIFTag{options}$$\\\\SIFTag{list_0}$0$\\\\SIFTag{list_1}$1$\\\\SIFTag{list_2}$$\\\\sqrt{2}$$\\\\SIFTag{list_3}$2'"
      ]
     },
     "metadata": {},
     "execution_count": 7
>>>>>>> 5ab4854b328241d38f8e43d9b618a07fed473c84
    }
   ],
   "metadata": {}
  },
  {
   "cell_type": "code",
<<<<<<< HEAD
   "execution_count": 7,
   "source": [
    "dict2str4sif(item, tag_mode=\"head\")"
=======
   "execution_count": 9,
   "source": [
    "dict2str4sif(item, tag_mode=\"tail\")"
>>>>>>> 5ab4854b328241d38f8e43d9b618a07fed473c84
   ],
   "outputs": [
    {
     "output_type": "execute_result",
     "data": {
      "text/plain": [
<<<<<<< HEAD
       "'$\\\\SIFTag{stem}$若复数$z=1+2 i+i^{3}$，则$|z|=$$\\\\SIFTag{options}$$\\\\SIFTag{list_0}$0$\\\\SIFTag{list_1}$1$\\\\SIFTag{list_2}$$\\\\sqrt{2}$$\\\\SIFTag{list_3}$2'"
      ]
     },
     "metadata": {},
     "execution_count": 7
=======
       "'若复数$z=1+2 i+i^{3}$，则$|z|=$$\\\\SIFTag{stem}$$\\\\SIFTag{list_0}$0$\\\\SIFTag{list_1}$1$\\\\SIFTag{list_2}$$\\\\sqrt{2}$$\\\\SIFTag{list_3}$2$\\\\SIFTag{options}$'"
      ]
     },
     "metadata": {},
     "execution_count": 9
>>>>>>> 5ab4854b328241d38f8e43d9b618a07fed473c84
    }
   ],
   "metadata": {}
  },
  {
   "cell_type": "code",
<<<<<<< HEAD
   "execution_count": 9,
   "source": [
    "dict2str4sif(item, tag_mode=\"tail\")"
=======
   "execution_count": 10,
   "source": [
    "dict2str4sif(item, add_list_no_tag=False)"
>>>>>>> 5ab4854b328241d38f8e43d9b618a07fed473c84
   ],
   "outputs": [
    {
     "output_type": "execute_result",
     "data": {
      "text/plain": [
<<<<<<< HEAD
       "'若复数$z=1+2 i+i^{3}$，则$|z|=$$\\\\SIFTag{stem}$$\\\\SIFTag{list_0}$0$\\\\SIFTag{list_1}$1$\\\\SIFTag{list_2}$$\\\\sqrt{2}$$\\\\SIFTag{list_3}$2$\\\\SIFTag{options}$'"
      ]
     },
     "metadata": {},
     "execution_count": 9
=======
       "'$\\\\SIFTag{stem_begin}$若复数$z=1+2 i+i^{3}$，则$|z|=$$\\\\SIFTag{stem_end}$$\\\\SIFTag{options_begin}$0$\\\\SIFSep$1$\\\\SIFSep$$\\\\sqrt{2}$$\\\\SIFSep$2$\\\\SIFTag{options_end}$'"
      ]
     },
     "metadata": {},
     "execution_count": 10
>>>>>>> 5ab4854b328241d38f8e43d9b618a07fed473c84
    }
   ],
   "metadata": {}
  },
  {
   "cell_type": "code",
   "execution_count": 11,
   "source": [
    "dict2str4sif(item, key_as_tag=False)"
   ],
   "outputs": [
    {
     "output_type": "execute_result",
     "data": {
      "text/plain": [
       "'若复数$z=1+2 i+i^{3}$，则$|z|=$0$\\\\SIFSep$1$\\\\SIFSep$$\\\\sqrt{2}$$\\\\SIFSep$2'"
      ]
     },
     "metadata": {},
     "execution_count": 11
    }
   ],
   "metadata": {}
  }
 ],
 "metadata": {
  "orig_nbformat": 4,
  "language_info": {
   "name": "python",
   "version": "3.8.5",
   "mimetype": "text/x-python",
   "codemirror_mode": {
    "name": "ipython",
    "version": 3
   },
   "pygments_lexer": "ipython3",
   "nbconvert_exporter": "python",
   "file_extension": ".py"
  },
  "kernelspec": {
   "name": "python3",
   "display_name": "Python 3.8.5 64-bit"
  },
  "interpreter": {
   "hash": "e7370f93d1d0cde622a1f8e1c04877d8463912d04d973331ad4851f04de6915a"
  }
 },
 "nbformat": 4,
 "nbformat_minor": 2
}